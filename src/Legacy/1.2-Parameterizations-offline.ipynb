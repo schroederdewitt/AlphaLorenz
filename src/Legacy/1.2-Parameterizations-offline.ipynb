{
 "cells": [
  {
   "cell_type": "markdown",
   "metadata": {},
   "source": [
    "## What am I actually parameterizing?"
   ]
  },
  {
   "cell_type": "code",
   "execution_count": 2,
   "metadata": {},
   "outputs": [],
   "source": [
    "%load_ext autoreload\n",
    "%autoreload 2"
   ]
  },
  {
   "cell_type": "code",
   "execution_count": 3,
   "metadata": {},
   "outputs": [],
   "source": [
    "import numpy as np\n",
    "from numpy.linalg import inv\n",
    "import matplotlib.pyplot as plt\n",
    "import xarray as xr\n",
    "from tqdm import tqdm_notebook as tqdm\n",
    "from L96 import *\n",
    "from copy import copy, deepcopy\n",
    "import pdb\n",
    "import multiprocessing as mp"
   ]
  },
  {
   "cell_type": "code",
   "execution_count": 6,
   "metadata": {},
   "outputs": [],
   "source": [
    "class L96TwoLevelUncoupled(object):\n",
    "    def __init__(self, K=36, J=10, h=1, F=10, c=10, b=10, dt=0.001,\n",
    "                 X_init=None, Y_init=None, noprog=False, noYhist=False, save_dt=0.1):\n",
    "        self.K, self.J, self.h, self.F, self.c, self.b, self.dt = K, J, h, F, c, b, dt\n",
    "        self.noprog, self.noYhist = noprog, noYhist\n",
    "        self.step_count = 0\n",
    "        self.save_steps = int(save_dt / dt)\n",
    "        self.X = np.random.rand(self.K) if X_init is None else X_init.copy()\n",
    "        self.Y = np.zeros(self.K * self.J) if Y_init is None else Y_init.copy()\n",
    "        self._history_X = [self.X.copy()]\n",
    "        self._history_Y_mean = [self.Y.reshape(self.K, self.J).mean(1).copy()]\n",
    "        self._history_Y2_mean = [(self.Y.reshape(self.K, self.J)**2).mean(1).copy()]\n",
    "        self._history_B = [-self.h * self.c * self.Y.reshape(self.K, self.J).mean(1)]\n",
    "        if not self.noYhist:\n",
    "            self._history_Y = [self.Y.copy()]\n",
    "\n",
    "\n",
    "    def _rhs_X(self, X, B):\n",
    "        \"\"\"Compute the right hand side of the X-ODE.\"\"\"\n",
    "        dXdt = (\n",
    "                -np.roll(X, -1) * (np.roll(X, -2) - np.roll(X, 1)) -\n",
    "                X + self.F + B\n",
    "        )\n",
    "        return dXdt\n",
    "\n",
    "    def _rhs_Y(self, X, Y):\n",
    "        \"\"\"Compute the right hand side of the Y-ODE.\"\"\"\n",
    "        dYdt = (\n",
    "                       -self.b * np.roll(Y, -1) * (np.roll(Y, -2) - np.roll(Y, 1)) -\n",
    "                       Y + self.h / self.J * np.repeat(X, self.J)\n",
    "               ) * self.c\n",
    "        return dYdt\n",
    "\n",
    "    def step(self):\n",
    "        # First get solution for X without updating Y\n",
    "        B = -self.h * self.c * self.Y.reshape(self.K, self.J).mean(1)\n",
    "\n",
    "        k1_X = self.dt * self._rhs_X(self.X, B)\n",
    "        k2_X = self.dt * self._rhs_X(self.X + k1_X / 2, B)\n",
    "        k3_X = self.dt * self._rhs_X(self.X + k2_X / 2, B)\n",
    "        k4_X = self.dt * self._rhs_X(self.X + k3_X, B)\n",
    "\n",
    "        # Then update Y with unupdated X\n",
    "        k1_Y = self.dt * self._rhs_Y(self.X, self.Y)\n",
    "        k2_Y = self.dt * self._rhs_Y(self.X, self.Y + k1_Y / 2)\n",
    "        k3_Y = self.dt * self._rhs_Y(self.X, self.Y + k2_Y / 2)\n",
    "        k4_Y = self.dt * self._rhs_Y(self.X, self.Y + k3_Y)\n",
    "\n",
    "        # Then update both\n",
    "        self.X += 1 / 6 * (k1_X + 2 * k2_X + 2 * k3_X + k4_X)\n",
    "        self.Y += 1 / 6 * (k1_Y + 2 * k2_Y + 2 * k3_Y + k4_Y)\n",
    "\n",
    "        self.step_count += 1\n",
    "\n",
    "        if self.step_count % self.save_steps == 0:\n",
    "            Y_mean = self.Y.reshape(self.K, self.J).mean(1)\n",
    "            Y2_mean = (self.Y.reshape(self.K, self.J)**2).mean(1)\n",
    "\n",
    "            self._history_X.append(self.X.copy())\n",
    "            self._history_Y_mean.append(Y_mean.copy())\n",
    "            self._history_Y2_mean.append(Y2_mean.copy())\n",
    "            self._history_B.append(B.copy())\n",
    "            if not self.noYhist:\n",
    "                self._history_Y.append(self.Y.copy())\n",
    "\n",
    "\n",
    "    def iterate(self, time):\n",
    "        steps = int(time / self.dt)\n",
    "        for n in tqdm(range(steps), disable=self.noprog):\n",
    "            self.step()\n",
    "\n",
    "    @property\n",
    "    def state(self):\n",
    "        return np.concatenate([self.X, self.Y * self.c])\n",
    "\n",
    "    def set_state(self, x):\n",
    "        self.X = x[:self.K]\n",
    "        self.Y = x[self.K:] / self.c\n",
    "\n",
    "    @property\n",
    "    def history(self):\n",
    "        dic = {}\n",
    "        dic['X'] = xr.DataArray(self._history_X, dims=['time', 'x'], name='X')\n",
    "        dic['B'] = xr.DataArray(self._history_B, dims=['time', 'x'], name='B')\n",
    "        dic['Y_mean'] = xr.DataArray(self._history_Y_mean, dims=['time', 'x'], name='Y_mean')\n",
    "        dic['Y2_mean'] = xr.DataArray(self._history_Y2_mean, dims=['time', 'x'], name='Y2_mean')\n",
    "        if not self.noYhist:\n",
    "            dic['X_repeat'] = xr.DataArray(np.repeat(self._history_X, self.J, 1),\n",
    "                                   dims=['time', 'y'], name='X_repeat')\n",
    "            dic['Y'] = xr.DataArray(self._history_Y, dims=['time', 'y'], name='Y')\n",
    "        return xr.Dataset(\n",
    "            dic,\n",
    "            coords={'time': np.arange(len(self._history_X)) * self.dt, 'x': np.arange(self.K),\n",
    "                    'y': np.arange(self.K * self.J)}\n",
    "        )"
   ]
  },
  {
   "cell_type": "code",
   "execution_count": 9,
   "metadata": {},
   "outputs": [],
   "source": [
    "class L96TwoLevelUncoupled2(object):\n",
    "    def __init__(self, K=36, J=10, h=1, F=10, c=10, b=10, dt=0.001,\n",
    "                 X_init=None, Y_init=None, noprog=False, noYhist=False, save_dt=0.1):\n",
    "        self.K, self.J, self.h, self.F, self.c, self.b, self.dt = K, J, h, F, c, b, dt\n",
    "        self.noprog, self.noYhist = noprog, noYhist\n",
    "        self.step_count = 0\n",
    "        self.save_steps = int(save_dt / dt)\n",
    "        self.X = np.random.rand(self.K) if X_init is None else X_init.copy()\n",
    "        self.Y = np.zeros(self.K * self.J) if Y_init is None else Y_init.copy()\n",
    "        self._history_X = [self.X.copy()]\n",
    "        self._history_Y_mean = [self.Y.reshape(self.K, self.J).mean(1).copy()]\n",
    "        self._history_Y2_mean = [(self.Y.reshape(self.K, self.J)**2).mean(1).copy()]\n",
    "        self._history_B = [-self.h * self.c * self.Y.reshape(self.K, self.J).mean(1)]\n",
    "        if not self.noYhist:\n",
    "            self._history_Y = [self.Y.copy()]\n",
    "\n",
    "\n",
    "    def _rhs_X(self, X, B):\n",
    "        \"\"\"Compute the right hand side of the X-ODE.\"\"\"\n",
    "        dXdt = (\n",
    "                -np.roll(X, -1) * (np.roll(X, -2) - np.roll(X, 1)) -\n",
    "                X + self.F + B\n",
    "        )\n",
    "        return dXdt\n",
    "\n",
    "    def _rhs_Y(self, X, Y):\n",
    "        \"\"\"Compute the right hand side of the Y-ODE.\"\"\"\n",
    "        dYdt = (\n",
    "                       -self.b * np.roll(Y, -1) * (np.roll(Y, -2) - np.roll(Y, 1)) -\n",
    "                       Y + self.h / self.J * np.repeat(X, self.J)\n",
    "               ) * self.c\n",
    "        return dYdt\n",
    "\n",
    "    def step(self):\n",
    "        # First get solution for X without updating Y\n",
    "        B = -self.h * self.c * self.Y.reshape(self.K, self.J).mean(1)\n",
    "\n",
    "        k1_X = self.dt * self._rhs_X(self.X, 0)\n",
    "        k2_X = self.dt * self._rhs_X(self.X + k1_X / 2, 0)\n",
    "        k3_X = self.dt * self._rhs_X(self.X + k2_X / 2, 0)\n",
    "        k4_X = self.dt * self._rhs_X(self.X + k3_X, 0)\n",
    "\n",
    "        # Then update Y with unupdated X\n",
    "        k1_Y = self.dt * self._rhs_Y(self.X, self.Y)\n",
    "        k2_Y = self.dt * self._rhs_Y(self.X, self.Y + k1_Y / 2)\n",
    "        k3_Y = self.dt * self._rhs_Y(self.X, self.Y + k2_Y / 2)\n",
    "        k4_Y = self.dt * self._rhs_Y(self.X, self.Y + k3_Y)\n",
    "\n",
    "        # Then update both\n",
    "        self.X += 1 / 6 * (k1_X + 2 * k2_X + 2 * k3_X + k4_X) + self.dt * B\n",
    "        self.Y += 1 / 6 * (k1_Y + 2 * k2_Y + 2 * k3_Y + k4_Y)\n",
    "\n",
    "        self.step_count += 1\n",
    "\n",
    "        if self.step_count % self.save_steps == 0:\n",
    "            Y_mean = self.Y.reshape(self.K, self.J).mean(1)\n",
    "            Y2_mean = (self.Y.reshape(self.K, self.J)**2).mean(1)\n",
    "\n",
    "            self._history_X.append(self.X.copy())\n",
    "            self._history_Y_mean.append(Y_mean.copy())\n",
    "            self._history_Y2_mean.append(Y2_mean.copy())\n",
    "            self._history_B.append(B.copy())\n",
    "            if not self.noYhist:\n",
    "                self._history_Y.append(self.Y.copy())\n",
    "\n",
    "\n",
    "    def iterate(self, time):\n",
    "        steps = int(time / self.dt)\n",
    "        for n in tqdm(range(steps), disable=self.noprog):\n",
    "            self.step()\n",
    "\n",
    "    @property\n",
    "    def state(self):\n",
    "        return np.concatenate([self.X, self.Y * self.c])\n",
    "\n",
    "    def set_state(self, x):\n",
    "        self.X = x[:self.K]\n",
    "        self.Y = x[self.K:] / self.c\n",
    "\n",
    "    @property\n",
    "    def history(self):\n",
    "        dic = {}\n",
    "        dic['X'] = xr.DataArray(self._history_X, dims=['time', 'x'], name='X')\n",
    "        dic['B'] = xr.DataArray(self._history_B, dims=['time', 'x'], name='B')\n",
    "        dic['Y_mean'] = xr.DataArray(self._history_Y_mean, dims=['time', 'x'], name='Y_mean')\n",
    "        dic['Y2_mean'] = xr.DataArray(self._history_Y2_mean, dims=['time', 'x'], name='Y2_mean')\n",
    "        if not self.noYhist:\n",
    "            dic['X_repeat'] = xr.DataArray(np.repeat(self._history_X, self.J, 1),\n",
    "                                   dims=['time', 'y'], name='X_repeat')\n",
    "            dic['Y'] = xr.DataArray(self._history_Y, dims=['time', 'y'], name='Y')\n",
    "        return xr.Dataset(\n",
    "            dic,\n",
    "            coords={'time': np.arange(len(self._history_X)) * self.dt, 'x': np.arange(self.K),\n",
    "                    'y': np.arange(self.K * self.J)}\n",
    "        )"
   ]
  },
  {
   "cell_type": "code",
   "execution_count": 95,
   "metadata": {},
   "outputs": [],
   "source": [
    "lref = L96TwoLevelUncoupled()"
   ]
  },
  {
   "cell_type": "code",
   "execution_count": 96,
   "metadata": {},
   "outputs": [
    {
     "data": {
      "application/vnd.jupyter.widget-view+json": {
       "model_id": "135a7fc467d9441cb411ab07609dc49c",
       "version_major": 2,
       "version_minor": 0
      },
      "text/plain": [
       "HBox(children=(IntProgress(value=0, max=1000000), HTML(value='')))"
      ]
     },
     "metadata": {},
     "output_type": "display_data"
    },
    {
     "name": "stdout",
     "output_type": "stream",
     "text": [
      "\n"
     ]
    }
   ],
   "source": [
    "lref.iterate(1000)"
   ]
  },
  {
   "cell_type": "code",
   "execution_count": 10,
   "metadata": {},
   "outputs": [],
   "source": [
    "l2 = L96TwoLevelUncoupled2()"
   ]
  },
  {
   "cell_type": "code",
   "execution_count": 11,
   "metadata": {},
   "outputs": [
    {
     "data": {
      "application/vnd.jupyter.widget-view+json": {
       "model_id": "b14ddc1810dc46829ec8e2c185f90241",
       "version_major": 2,
       "version_minor": 0
      },
      "text/plain": [
       "HBox(children=(IntProgress(value=0, max=100000), HTML(value='')))"
      ]
     },
     "metadata": {},
     "output_type": "display_data"
    },
    {
     "name": "stdout",
     "output_type": "stream",
     "text": [
      "\n"
     ]
    }
   ],
   "source": [
    "l2.iterate(100)"
   ]
  },
  {
   "cell_type": "code",
   "execution_count": 13,
   "metadata": {},
   "outputs": [
    {
     "data": {
      "text/plain": [
       "(<xarray.DataArray 'X' ()>\n",
       " array(2.520714), <xarray.DataArray 'X' ()>\n",
       " array(2.574815))"
      ]
     },
     "execution_count": 13,
     "metadata": {},
     "output_type": "execute_result"
    }
   ],
   "source": [
    "lref.history.X.mean(), l2.history.X.mean()"
   ]
  },
  {
   "cell_type": "code",
   "execution_count": 15,
   "metadata": {},
   "outputs": [
    {
     "data": {
      "text/plain": [
       "(<xarray.DataArray 'X' ()>\n",
       " array(3.528028), <xarray.DataArray 'X' ()>\n",
       " array(3.548618))"
      ]
     },
     "execution_count": 15,
     "metadata": {},
     "output_type": "execute_result"
    }
   ],
   "source": [
    "lref.history.X.std(), l2.history.X.std()"
   ]
  },
  {
   "cell_type": "code",
   "execution_count": 14,
   "metadata": {},
   "outputs": [
    {
     "data": {
      "text/plain": [
       "(<xarray.DataArray 'Y' ()>\n",
       " array(0.099112), <xarray.DataArray 'Y' ()>\n",
       " array(0.100388))"
      ]
     },
     "execution_count": 14,
     "metadata": {},
     "output_type": "execute_result"
    }
   ],
   "source": [
    "lref.history.Y.mean(), l2.history.Y.mean()"
   ]
  },
  {
   "cell_type": "code",
   "execution_count": 16,
   "metadata": {},
   "outputs": [
    {
     "data": {
      "text/plain": [
       "[<matplotlib.lines.Line2D at 0x145ec17607b8>]"
      ]
     },
     "execution_count": 16,
     "metadata": {},
     "output_type": "execute_result"
    },
    {
     "data": {
      "image/png": "[encoded data removed]",
      "text/plain": [
       "<Figure size 432x288 with 1 Axes>"
      ]
     },
     "metadata": {
      "needs_background": "light"
     },
     "output_type": "display_data"
    }
   ],
   "source": [
    "lref.history.X.isel(time=-1).plot()\n",
    "l2.history.X.isel(time=-1).plot()"
   ]
  },
  {
   "cell_type": "markdown",
   "metadata": {},
   "source": [
    "## Plot param task"
   ]
  },
  {
   "cell_type": "code",
   "execution_count": 67,
   "metadata": {},
   "outputs": [
    {
     "data": {
      "text/plain": [
       "[<matplotlib.lines.Line2D at 0x145e79a0af98>]"
      ]
     },
     "execution_count": 67,
     "metadata": {},
     "output_type": "execute_result"
    },
    {
     "data": {
      "image/png": "[encoded data removed]",
      "text/plain": [
       "<Figure size 432x288 with 1 Axes>"
      ]
     },
     "metadata": {
      "needs_background": "light"
     },
     "output_type": "display_data"
    }
   ],
   "source": [
    "plt.scatter(lref.history.X, lref.history.B, s=5, alpha=0.01)\n",
    "x = np.linspace(-10, 15, 100)\n",
    "plt.plot(x, np.polyval(p, x), c='r')\n",
    "plt.plot(x, poly(x, p[::-1]), c='g')"
   ]
  },
  {
   "cell_type": "code",
   "execution_count": 62,
   "metadata": {},
   "outputs": [],
   "source": [
    "p = np.polyfit(lref.history.X.values.ravel(), lref.history.B.values.ravel(), 4)"
   ]
  },
  {
   "cell_type": "code",
   "execution_count": 63,
   "metadata": {},
   "outputs": [
    {
     "data": {
      "text/plain": [
       "array([-4.56102436e-04,  6.83394377e-03,  4.75755976e-03, -4.97199719e-01,\n",
       "       -1.84655686e-01])"
      ]
     },
     "execution_count": 63,
     "metadata": {},
     "output_type": "execute_result"
    }
   ],
   "source": [
    "p"
   ]
  },
  {
   "cell_type": "code",
   "execution_count": 64,
   "metadata": {},
   "outputs": [],
   "source": [
    "def poly(x, p, deg=4):\n",
    "    return np.sum([p[i]*x**i for i in range(deg+1)], 0)"
   ]
  },
  {
   "cell_type": "code",
   "execution_count": 65,
   "metadata": {},
   "outputs": [
    {
     "data": {
      "text/plain": [
       "array([-6.13187065, -5.33284123])"
      ]
     },
     "execution_count": 65,
     "metadata": {},
     "output_type": "execute_result"
    }
   ],
   "source": [
    "np.polyval(p, x[:2])"
   ]
  },
  {
   "cell_type": "code",
   "execution_count": 66,
   "metadata": {},
   "outputs": [
    {
     "data": {
      "text/plain": [
       "array([-6.13187065, -5.33284123])"
      ]
     },
     "execution_count": 66,
     "metadata": {},
     "output_type": "execute_result"
    }
   ],
   "source": [
    "poly(x[:2], p[::-1])"
   ]
  },
  {
   "cell_type": "markdown",
   "metadata": {},
   "source": [
    "## Build param L96"
   ]
  },
  {
   "cell_type": "code",
   "execution_count": 74,
   "metadata": {},
   "outputs": [],
   "source": [
    "class L96TwoLevelUncoupledParam(object):\n",
    "    def __init__(self, K=36, J=10, F=10, dt=0.001, param=None,\n",
    "                 X_init=None, noprog=False, save_dt=0.1):\n",
    "        self.K, self.J, self.F, self.dt = K, J, F, dt\n",
    "        self.noprog = noprog\n",
    "        self.param = param\n",
    "        self.step_count = 0\n",
    "        self.save_steps = int(save_dt / dt)\n",
    "        self.X = np.random.rand(self.K) if X_init is None else X_init.copy()\n",
    "        self._history_X = [self.X.copy()]\n",
    "        self._history_B = [np.zeros(self.X.shape)]\n",
    "\n",
    "    def _rhs_X(self, X, B):\n",
    "        \"\"\"Compute the right hand side of the X-ODE.\"\"\"\n",
    "        dXdt = (\n",
    "                -np.roll(X, -1) * (np.roll(X, -2) - np.roll(X, 1)) -\n",
    "                X + self.F + B\n",
    "        )\n",
    "        return dXdt\n",
    "\n",
    "    def step(self):\n",
    "        # First get solution for X without updating Y\n",
    "        B = self.param(self.X)\n",
    "        \n",
    "        k1_X = self.dt * self._rhs_X(self.X, 0)\n",
    "        k2_X = self.dt * self._rhs_X(self.X + k1_X / 2, 0)\n",
    "        k3_X = self.dt * self._rhs_X(self.X + k2_X / 2, 0)\n",
    "        k4_X = self.dt * self._rhs_X(self.X + k3_X, 0)\n",
    "\n",
    "        # Then update both\n",
    "        self.X += 1 / 6 * (k1_X + 2 * k2_X + 2 * k3_X + k4_X) + self.dt * B\n",
    "\n",
    "        self.step_count += 1\n",
    "\n",
    "        if self.step_count % self.save_steps == 0:\n",
    "\n",
    "            self._history_X.append(self.X.copy())\n",
    "            self._history_B.append(B.copy())\n",
    "\n",
    "    def iterate(self, time):\n",
    "        steps = int(time / self.dt)\n",
    "        for n in tqdm(range(steps), disable=self.noprog):\n",
    "            self.step()\n",
    "\n",
    "    @property\n",
    "    def state(self):\n",
    "        return np.concatenate([self.X])\n",
    "\n",
    "    def set_state(self, x):\n",
    "        self.X = x[:self.K]\n",
    "\n",
    "    @property\n",
    "    def history(self):\n",
    "        dic = {}\n",
    "        dic['X'] = xr.DataArray(self._history_X, dims=['time', 'x'], name='X')\n",
    "        dic['B'] = xr.DataArray(self._history_B, dims=['time', 'x'], name='B')\n",
    "        return xr.Dataset(\n",
    "            dic,\n",
    "            coords={'time': np.arange(len(self._history_X)) * self.dt, 'x': np.arange(self.K),\n",
    "                    'y': np.arange(self.K * self.J)}\n",
    "        )"
   ]
  },
  {
   "cell_type": "code",
   "execution_count": 80,
   "metadata": {},
   "outputs": [],
   "source": [
    "class PolyParam():\n",
    "    def __init__(self, p):\n",
    "        self.p = p\n",
    "    def __call__(self, x):\n",
    "        return np.polyval(self.p, x)"
   ]
  },
  {
   "cell_type": "code",
   "execution_count": 81,
   "metadata": {},
   "outputs": [],
   "source": [
    "lparam = L96TwoLevelUncoupledParam(param=PolyParam(p))"
   ]
  },
  {
   "cell_type": "code",
   "execution_count": 82,
   "metadata": {},
   "outputs": [
    {
     "data": {
      "application/vnd.jupyter.widget-view+json": {
       "model_id": "2f19b31825c0496bb7447e99c44661fa",
       "version_major": 2,
       "version_minor": 0
      },
      "text/plain": [
       "HBox(children=(IntProgress(value=0, max=100000), HTML(value='')))"
      ]
     },
     "metadata": {},
     "output_type": "display_data"
    },
    {
     "name": "stdout",
     "output_type": "stream",
     "text": [
      "\n"
     ]
    }
   ],
   "source": [
    "lparam.iterate(100)"
   ]
  },
  {
   "cell_type": "code",
   "execution_count": 83,
   "metadata": {},
   "outputs": [
    {
     "data": {
      "text/plain": [
       "(<xarray.DataArray 'X' ()>\n",
       " array(2.520714), <xarray.DataArray 'X' ()>\n",
       " array(2.542514))"
      ]
     },
     "execution_count": 83,
     "metadata": {},
     "output_type": "execute_result"
    }
   ],
   "source": [
    "lref.history.X.mean(), lparam.history.X.mean()"
   ]
  },
  {
   "cell_type": "code",
   "execution_count": 84,
   "metadata": {},
   "outputs": [
    {
     "data": {
      "text/plain": [
       "(<xarray.DataArray 'X' ()>\n",
       " array(3.528028), <xarray.DataArray 'X' ()>\n",
       " array(3.538273))"
      ]
     },
     "execution_count": 84,
     "metadata": {},
     "output_type": "execute_result"
    }
   ],
   "source": [
    "lref.history.X.std(), lparam.history.X.std()"
   ]
  },
  {
   "cell_type": "code",
   "execution_count": 92,
   "metadata": {},
   "outputs": [
    {
     "data": {
      "image/png": "[encoded data removed]",
      "text/plain": [
       "<Figure size 432x288 with 1 Axes>"
      ]
     },
     "metadata": {
      "needs_background": "light"
     },
     "output_type": "display_data"
    }
   ],
   "source": [
    "plt.hist(lref.history.X.values.ravel(), range=(-7, 15), bins=100)\n",
    "plt.hist(lparam.history.X.values.ravel(), range=(-7, 15), bins=100, alpha=0.5);"
   ]
  },
  {
   "cell_type": "code",
   "execution_count": 94,
   "metadata": {},
   "outputs": [
    {
     "data": {
      "image/png": "[encoded data removed]",
      "text/plain": [
       "<Figure size 432x288 with 1 Axes>"
      ]
     },
     "metadata": {
      "needs_background": "light"
     },
     "output_type": "display_data"
    }
   ],
   "source": [
    "plt.hist(lref.history.B.values.ravel(), range=(-5, 5), bins=100)\n",
    "plt.hist(lparam.history.B.values.ravel(), range=(-5, 5), bins=100, alpha=0.5);"
   ]
  },
  {
   "cell_type": "markdown",
   "metadata": {},
   "source": [
    "## The simplest NN parameterization"
   ]
  },
  {
   "cell_type": "code",
   "execution_count": 98,
   "metadata": {},
   "outputs": [
    {
     "name": "stderr",
     "output_type": "stream",
     "text": [
      "/home/s/S.Rasp/miniconda3/lib/python3.6/importlib/_bootstrap.py:219: RuntimeWarning: numpy.dtype size changed, may indicate binary incompatibility. Expected 96, got 88\n",
      "  return f(*args, **kwds)\n",
      "/home/s/S.Rasp/miniconda3/lib/python3.6/importlib/_bootstrap.py:219: RuntimeWarning: numpy.dtype size changed, may indicate binary incompatibility. Expected 96, got 88\n",
      "  return f(*args, **kwds)\n"
     ]
    }
   ],
   "source": [
    "import tensorflow as tf\n",
    "from tensorflow import keras\n",
    "from tensorflow.keras.layers import *\n",
    "config = tf.ConfigProto()\n",
    "config.gpu_options.allow_growth=True\n",
    "sess = tf.Session(config=config)\n",
    "from sklearn.model_selection import train_test_split"
   ]
  },
  {
   "cell_type": "code",
   "execution_count": 99,
   "metadata": {},
   "outputs": [
    {
     "data": {
      "text/plain": [
       "<xarray.Dataset>\n",
       "Dimensions:   (time: 10001, x: 36, y: 360)\n",
       "Coordinates:\n",
       "  * time      (time) float64 0.0 0.001 0.002 0.003 0.004 0.005 0.006 0.007 ...\n",
       "  * x         (x) int64 0 1 2 3 4 5 6 7 8 9 10 11 12 13 14 15 16 17 18 19 20 ...\n",
       "  * y         (y) int64 0 1 2 3 4 5 6 7 8 9 10 11 12 13 14 15 16 17 18 19 20 ...\n",
       "Data variables:\n",
       "    X         (time, x) float64 0.2055 0.05812 0.4093 0.9745 0.1429 0.5297 ...\n",
       "    B         (time, x) float64 -0.0 -0.0 -0.0 -0.0 -0.0 -0.0 -0.0 -0.0 -0.0 ...\n",
       "    Y_mean    (time, x) float64 0.0 0.0 0.0 0.0 0.0 0.0 0.0 0.0 0.0 0.0 0.0 ...\n",
       "    Y2_mean   (time, x) float64 0.0 0.0 0.0 0.0 0.0 0.0 0.0 0.0 0.0 0.0 0.0 ...\n",
       "    X_repeat  (time, y) float64 0.2055 0.2055 0.2055 0.2055 0.2055 0.2055 ...\n",
       "    Y         (time, y) float64 0.0 0.0 0.0 0.0 0.0 0.0 0.0 0.0 0.0 0.0 0.0 ..."
      ]
     },
     "execution_count": 99,
     "metadata": {},
     "output_type": "execute_result"
    }
   ],
   "source": [
    "h = lref.history; h"
   ]
  },
  {
   "cell_type": "code",
   "execution_count": 100,
   "metadata": {},
   "outputs": [
    {
     "data": {
      "text/plain": [
       "(360036,)"
      ]
     },
     "execution_count": 100,
     "metadata": {},
     "output_type": "execute_result"
    }
   ],
   "source": [
    "X= np.ravel(h.X); Y=np.ravel(h.B); X.shape"
   ]
  },
  {
   "cell_type": "code",
   "execution_count": 101,
   "metadata": {},
   "outputs": [
    {
     "data": {
      "text/plain": [
       "(3.5162178294837876, 1.2558989417523825)"
      ]
     },
     "execution_count": 101,
     "metadata": {},
     "output_type": "execute_result"
    }
   ],
   "source": [
    "mean_x, mean_y = np.mean(X), np.mean(Y); mean_x, mean_y\n",
    "std_x, std_y = np.std(X), np.std(Y); std_x, std_y"
   ]
  },
  {
   "cell_type": "code",
   "execution_count": 102,
   "metadata": {},
   "outputs": [],
   "source": [
    "X = (X - mean_x) / std_x\n",
    "Y = (Y - mean_y) / std_y"
   ]
  },
  {
   "cell_type": "code",
   "execution_count": 103,
   "metadata": {},
   "outputs": [],
   "source": [
    "X_train, X_valid, Y_train, Y_valid = train_test_split(X, Y)"
   ]
  },
  {
   "cell_type": "code",
   "execution_count": 104,
   "metadata": {},
   "outputs": [
    {
     "data": {
      "text/plain": [
       "((270027,), (90009,))"
      ]
     },
     "execution_count": 104,
     "metadata": {},
     "output_type": "execute_result"
    }
   ],
   "source": [
    "X_train.shape, X_valid.shape"
   ]
  },
  {
   "cell_type": "code",
   "execution_count": 131,
   "metadata": {},
   "outputs": [
    {
     "name": "stdout",
     "output_type": "stream",
     "text": [
      "_________________________________________________________________\n",
      "Layer (type)                 Output Shape              Param #   \n",
      "=================================================================\n",
      "dense_11 (Dense)             (None, 5)                 10        \n",
      "_________________________________________________________________\n",
      "dense_12 (Dense)             (None, 1)                 6         \n",
      "=================================================================\n",
      "Total params: 16\n",
      "Trainable params: 16\n",
      "Non-trainable params: 0\n",
      "_________________________________________________________________\n"
     ]
    }
   ],
   "source": [
    "model = keras.models.Sequential([\n",
    "    Dense(5, input_shape=(1,), activation='elu'),\n",
    "    #Dense(10, activation='elu'),\n",
    "    Dense(1)\n",
    "])\n",
    "model.compile('adam', 'mse')\n",
    "model.summary()"
   ]
  },
  {
   "cell_type": "code",
   "execution_count": 137,
   "metadata": {},
   "outputs": [
    {
     "name": "stdout",
     "output_type": "stream",
     "text": [
      "Train on 270027 samples, validate on 90009 samples\n",
      "Epoch 1/10\n",
      "270027/270027 [==============================] - 0s 1us/step - loss: 0.1859 - val_loss: 0.1869\n",
      "Epoch 2/10\n",
      "270027/270027 [==============================] - 0s 1us/step - loss: 0.1859 - val_loss: 0.1867\n",
      "Epoch 3/10\n",
      "270027/270027 [==============================] - 0s 1us/step - loss: 0.1859 - val_loss: 0.1866\n",
      "Epoch 4/10\n",
      "270027/270027 [==============================] - 0s 1us/step - loss: 0.1859 - val_loss: 0.1868\n",
      "Epoch 5/10\n",
      "270027/270027 [==============================] - 0s 1us/step - loss: 0.1859 - val_loss: 0.1866\n",
      "Epoch 6/10\n",
      "270027/270027 [==============================] - 0s 1us/step - loss: 0.1859 - val_loss: 0.1866\n",
      "Epoch 7/10\n",
      "270027/270027 [==============================] - 0s 1us/step - loss: 0.1860 - val_loss: 0.1866\n",
      "Epoch 8/10\n",
      "270027/270027 [==============================] - 0s 1us/step - loss: 0.1859 - val_loss: 0.1866\n",
      "Epoch 9/10\n",
      "270027/270027 [==============================] - 0s 1us/step - loss: 0.1860 - val_loss: 0.1866\n",
      "Epoch 10/10\n",
      "270027/270027 [==============================] - 0s 1us/step - loss: 0.1859 - val_loss: 0.1866\n"
     ]
    },
    {
     "data": {
      "text/plain": [
       "<tensorflow.python.keras.callbacks.History at 0x145c6c7b0e80>"
      ]
     },
     "execution_count": 137,
     "metadata": {},
     "output_type": "execute_result"
    }
   ],
   "source": [
    "model.fit(X_train, Y_train, batch_size=1024, epochs=10, validation_data=(X_valid, Y_valid))"
   ]
  },
  {
   "cell_type": "code",
   "execution_count": 142,
   "metadata": {},
   "outputs": [],
   "source": [
    "preds = model.predict(X_valid, 10_000)\n",
    "test = np.linspace(-5, 5, 100); test_preds = model.predict(test)"
   ]
  },
  {
   "cell_type": "code",
   "execution_count": 143,
   "metadata": {},
   "outputs": [
    {
     "data": {
      "text/plain": [
       "<matplotlib.collections.PathCollection at 0x145c6c6b87b8>"
      ]
     },
     "execution_count": 143,
     "metadata": {},
     "output_type": "execute_result"
    },
    {
     "data": {
      "image/png": "[encoded data removed]",
      "text/plain": [
       "<Figure size 432x288 with 1 Axes>"
      ]
     },
     "metadata": {
      "needs_background": "light"
     },
     "output_type": "display_data"
    }
   ],
   "source": [
    "plt.scatter(X_valid[::100], Y_valid[::100])\n",
    "#plt.scatter(X_valid[::100], preds[::100])\n",
    "plt.scatter(test, test_preds)"
   ]
  },
  {
   "cell_type": "code",
   "execution_count": null,
   "metadata": {},
   "outputs": [],
   "source": []
  },
  {
   "cell_type": "code",
   "execution_count": null,
   "metadata": {},
   "outputs": [],
   "source": []
  }
 ],
 "metadata": {
  "kernelspec": {
   "display_name": "Python 3",
   "language": "python",
   "name": "python3"
  },
  "language_info": {
   "codemirror_mode": {
    "name": "ipython",
    "version": 3
   },
   "file_extension": ".py",
   "mimetype": "text/x-python",
   "name": "python",
   "nbconvert_exporter": "python",
   "pygments_lexer": "ipython3",
   "version": "3.6.8"
  },
  "toc": {
   "base_numbering": 1,
   "nav_menu": {},
   "number_sections": true,
   "sideBar": false,
   "skip_h1_title": true,
   "title_cell": "Table of Contents",
   "title_sidebar": "Contents",
   "toc_cell": false,
   "toc_position": {},
   "toc_section_display": true,
   "toc_window_display": false
  }
 },
 "nbformat": 4,
 "nbformat_minor": 2
}
